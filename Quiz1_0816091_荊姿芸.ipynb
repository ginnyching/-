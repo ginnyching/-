{
  "nbformat": 4,
  "nbformat_minor": 0,
  "metadata": {
    "colab": {
      "name": "Quiz1_StudentID_ChineseName.ipynb",
      "provenance": [],
      "collapsed_sections": [],
      "toc_visible": true
    },
    "kernelspec": {
      "name": "python3",
      "display_name": "Python 3"
    },
    "language_info": {
      "name": "python"
    }
  },
  "cells": [
    {
      "cell_type": "markdown",
      "metadata": {
        "id": "8LAX_h3mu4Co"
      },
      "source": [
        "# 【DEO1611】The Language of Technical Computing (數學應用軟體簡介)\n",
        "\n"
      ]
    },
    {
      "cell_type": "markdown",
      "metadata": {
        "id": "jzWI4jEE0kyd"
      },
      "source": [
        "### ※ Note\n",
        "* Upload your jupyter notebook before **12:00 noon 3/18**\n",
        "* Late assignment would get 0% \n",
        "* Plagiarism(抄襲) is strictly prohibited, that is 0%\n",
        "* You are encouraged to discuss with your partners (_Act together we go far_)\n",
        "* Remember save your output and add comments beside your source code"
      ]
    },
    {
      "cell_type": "markdown",
      "metadata": {
        "id": "5OBp8h100ipE"
      },
      "source": [
        "## Python tutorial - Quiz1\n",
        "\n",
        "\n"
      ]
    },
    {
      "cell_type": "markdown",
      "metadata": {
        "id": "8ijuGTBt0neZ"
      },
      "source": [
        "### (30%) Question1: Narcissistic number (水仙花數) \n"
      ]
    },
    {
      "cell_type": "markdown",
      "metadata": {
        "id": "UaRySDBSu_Pf"
      },
      "source": [
        "\n",
        "The definition of narcissistic number has the form:\n",
        "\n",
        "$$\n",
        "\\begin{equation}\n",
        "F_{b}(n) = \\sum_{i=0}^{k-1}{d_{i}^{k}}\n",
        "\\end{equation}\n",
        "$$\n",
        "where $k = \\lfloor \\log_{b}{n} \\rfloor + 1$ is the number of digits in the number in base $b$. (n是幾位數的意思)\n",
        "\n",
        "For example, the number 407 in base-10 is a narcissistic number, \n",
        "\n",
        "<center>$4^3 + 0^3 + 7^3 = 64 + 0 + 343 = 407$</center>\n",
        "\n",
        "---\n",
        "Please list all the narcissistic number below 100,000 in base-10.\n",
        "\n",
        "(Tip: you should find 20 numbers including 0, \n",
        "\n",
        "* https://mathworld.wolfram.com/NarcissisticNumber.html\n",
        "\n",
        "* https://en.wikipedia.org/wiki/Narcissistic_number)"
      ]
    },
    {
      "cell_type": "code",
      "metadata": {
        "id": "C3-2lG5Ow_7D",
        "outputId": "d59700d6-780b-4416-9b38-16f2903f5863",
        "colab": {
          "base_uri": "https://localhost:8080/"
        }
      },
      "source": [
        "import math\n",
        "narcissistic = list()\n",
        "#log can only calculate natural number-> consider 0 independently \n",
        "#range to 100000+1 so that 100000 can be included\n",
        "for i in range (100000+1):\n",
        "  if i==0:\n",
        "    narcissistic.append(i)\n",
        "  else:\n",
        "    #the interger part is the interger that is nearest but smaller than the result of log \n",
        "    k=int(math.log(i,10))+1\n",
        "    #change interger to string\n",
        "    s=str(i)\n",
        "    sum=0\n",
        "    #calculate the power of k of each digit respectively and sum them up\n",
        "    for n in range(len(s)):\n",
        "      sum+=int(s[n])**k\n",
        "    #if the sum is same as i, we can know that i is a narcissistic number, add i to the narcissistic list\n",
        "    if sum==i:\n",
        "      narcissistic.append(i)\n",
        "#print the results\n",
        "print(f'There are {len(narcissistic)} narcissistic numbers')\n",
        "print('Narcissistic sequence:', narcissistic)"
      ],
      "execution_count": 93,
      "outputs": [
        {
          "output_type": "stream",
          "name": "stdout",
          "text": [
            "There are 20 narcissistic numbers\n",
            "Narcissistic sequence: [0, 1, 2, 3, 4, 5, 6, 7, 8, 9, 153, 370, 371, 407, 1634, 8208, 9474, 54748, 92727, 93084]\n"
          ]
        }
      ]
    },
    {
      "cell_type": "markdown",
      "metadata": {
        "id": "C4JNHuOV1HlA"
      },
      "source": [
        "### (20%) Question2: Fibonacci sequence(費波那契數列)"
      ]
    },
    {
      "cell_type": "markdown",
      "metadata": {
        "id": "qzoo5Fcw4Fxt"
      },
      "source": [
        "The Fibonacci numbers $F_n$ can be calculated from the recurrence relation below:\n",
        "\n",
        "$$\n",
        "F_{n} = \n",
        "\\begin{cases}\n",
        "0, \\; n = 0 \\\\\n",
        "1, \\; n = 1 \\\\\n",
        "F_{n-1} + F_{n-2}, \\; \\textrm{for n > 1}\n",
        "\\end{cases}\n",
        "$$\n",
        "\n",
        "For example, the Fibonacci sequence looks like:\n",
        "\n",
        "<center>\n",
        "$0, 1, 1, 2, 3, 5, 8, 13, 21, 34, 55...$\n",
        "</center>\n",
        "\n",
        "---\n",
        "But now, we want to modify the initial conditions of $F_{0}$ and $F_{1}$,\n",
        "assuming $F_{0}=2$ and $F_{1}=12$.\n",
        "\n",
        "Please list the first 15 Fibonacci numbers as a sequence, that is from $F_0$ to $F_{14}$.\n",
        "\n",
        "(Tip: useful website for validation, https://www.dcode.fr/fibonacci-numbers)"
      ]
    },
    {
      "cell_type": "code",
      "metadata": {
        "id": "f6lPKbBlw2bv",
        "outputId": "08742ce4-87a0-4431-8350-cbd11f4d7e90",
        "colab": {
          "base_uri": "https://localhost:8080/"
        }
      },
      "source": [
        "# DP method\n",
        "nth = 15\n",
        "fib = [0 for _ in range(nth)] # initialize\n",
        "\n",
        "for i in range(nth):\n",
        "  #f0=2\n",
        "  if i==0:\n",
        "    fib[i]=2\n",
        "  #f1=12\n",
        "  elif i==1:\n",
        "    fib[i]=12\n",
        "  #fn=fn-1 + fn-2, for all n>=2\n",
        "  else:\n",
        "    fib[i]=fib[i-1]+fib[i-2]\n",
        "# -----------------------------------------------\n",
        "print(f'The first {nth} Fibonacci sequence:', fib)"
      ],
      "execution_count": 94,
      "outputs": [
        {
          "output_type": "stream",
          "name": "stdout",
          "text": [
            "The first 15 Fibonacci sequence: [2, 12, 14, 26, 40, 66, 106, 172, 278, 450, 728, 1178, 1906, 3084, 4990]\n"
          ]
        }
      ]
    },
    {
      "cell_type": "markdown",
      "source": [
        "### (20%) Question3: Bubble sort (氣泡排序)"
      ],
      "metadata": {
        "id": "rnXIQitUBu1F"
      }
    },
    {
      "cell_type": "markdown",
      "source": [
        "Bubble sort is the simplest sorting algorithm that repeatly swap two numbers if they are in wrong order.\n",
        "\n",
        "From the animition below, it can be found that number $6$ is like \n",
        "a bubble continuously moving right if there is a number larger than \n",
        "$6$.\n",
        "\n",
        "If you swap two elements from `num[0]` to `num[n-1]`, the largest num would locate at the last position. (why?)\n",
        "\n",
        "Thus, if you repeat many times, each time the largest one would locate at the last position. The array then can be sorted from smallest to largest number.\n",
        "\n",
        "![](https://upload.wikimedia.org/wikipedia/commons/c/c8/Bubble-sort-example-300px.gif)\n",
        "\n",
        "(from [wiki](https://en.wikipedia.org/wiki/Bubble_sort))\n",
        "\n",
        "\n",
        "Please sort the array `[6, 5, 3, 1, 8, 7, 2, 4]` by bubble sort using the given format. (Directly use off-the-shelf  function is not allowed)\n",
        "\n",
        "\n",
        "---\n",
        "hint: `range(start, stop, step)`\n",
        "\n",
        "negative step in range is valid!\n",
        "```python\n",
        "for i in range(10, -1, -1):\n",
        "    print(i)\n",
        "```"
      ],
      "metadata": {
        "id": "WbNHwFNpPy4u"
      }
    },
    {
      "cell_type": "code",
      "source": [
        "num = [6, 5, 3, 1, 8, 7, 2, 4]\n",
        "\n",
        "#compare between each two numbers from left to right\n",
        "#num list contains 8 elements but the last element is num[7], so the range is at most len(num)-1\n",
        "for i in range(len(num)-1,-1,-1):\n",
        "  for j in range(i):\n",
        "    #if the left one is bigger than swap it with the right one\n",
        "    if num[j]>num[j+1]:\n",
        "      num[j],num[j+1]=num[j+1],num[j]\n",
        "#------------------------------------------------\n",
        "print(\"Sorted result:\", num)"
      ],
      "metadata": {
        "id": "R-B7le3OPeu6",
        "outputId": "7b285405-522d-4e4a-cdb9-631efa3391ed",
        "colab": {
          "base_uri": "https://localhost:8080/"
        }
      },
      "execution_count": 95,
      "outputs": [
        {
          "output_type": "stream",
          "name": "stdout",
          "text": [
            "Sorted result: [1, 2, 3, 4, 5, 6, 7, 8]\n"
          ]
        }
      ]
    },
    {
      "cell_type": "markdown",
      "source": [
        "### (30%) Question4: Numerical integration (數值積分)"
      ],
      "metadata": {
        "id": "CvndWfzDBPtc"
      }
    },
    {
      "cell_type": "markdown",
      "source": [
        "The Riemann sum(黎曼和) has the form\n",
        "\n",
        "$$\n",
        "\\begin{equation}\n",
        "\\int^{b}_{a}f(x)\\,dx = \n",
        "\\lim_{n\\to\\infty}\\sum^{n}_{i=1}f(x^{*}_{i})\\Delta{x} \\approx\n",
        "\\sum^{n}_{i=1}f(x^{*}_{i})\\Delta{x}, \\\\\n",
        "\\text{where sample points} \\; x^{*}_{i} \\in [x_{i-1},x_{i}], \\; x_{i}=a+i\\Delta{x}, i=1,\\dots, n, \\text{and} \\; \\Delta{x}=\\dfrac{b-a}{n}.\n",
        "\\end{equation}\n",
        "$$\n",
        "\n",
        "---\n",
        "In the following questions, we are going to examine the integral of\n",
        "$$\\sin^{2}{x} \\in [0, 2\\pi]$$\n",
        "\n",
        "Actually, the exact solution is $\\int_{0}^{2\\pi}{\\sin^{2}x} \\;dx = \\pi$🧐"
      ],
      "metadata": {
        "id": "nEZ1f2ngCvmG"
      }
    },
    {
      "cell_type": "markdown",
      "source": [
        "<img height=\"auto\" width=\"800px\" src=\"data:image/png;base64,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\">"
      ],
      "metadata": {
        "id": "BTcmvykuFwe0"
      }
    },
    {
      "cell_type": "markdown",
      "source": [
        "#### (10%) 1. Create an array of the above formula in $[0,2\\pi]$, and the spacing $\\Delta x$ is $0.00001$\n",
        "\n",
        "\n",
        "Hint:\n",
        "* `np.linspace(start, stop, num)`\n",
        "$$num = \\left\\lfloor \\dfrac{stop-start}{step} \\right\\rfloor +１$$\n",
        "* `np.floor()` or `int()`\n",
        "\n",
        "(Reference: https://numpy.org/doc/stable/reference/generated/numpy.linspace.html)"
      ],
      "metadata": {
        "id": "xlVhYL8WGa5e"
      }
    },
    {
      "cell_type": "code",
      "source": [
        "import numpy as np\n",
        "\n",
        "#a, b forms the interval [0,2pi], dx=delta x=0.00001\n",
        "a = 0\n",
        "b = 2 * np.pi\n",
        "dx = 0.00001\n",
        "\n",
        "# finish codes below! ---------------------------\n",
        "num = int((b-a)/dx)+1\n",
        "x = np.linspace(a, b, num)\n",
        "f = np.sin(x)**2\n",
        "#------------------------------------------------\n"
      ],
      "metadata": {
        "id": "pmTWTewaCvJ8"
      },
      "execution_count": 96,
      "outputs": []
    },
    {
      "cell_type": "markdown",
      "source": [
        "#### (10%) 2. Left endpoint rule (左端法)\n",
        "\n",
        "The formulas of left endpoint rule are shown below\n",
        "\n",
        "$$\n",
        "\\begin{equation}\n",
        "L_{n}=\\sum^{n}_{i=1}f(x_{\\mathbf{i-1}})\\Delta{x}\n",
        "\\end{equation}\n",
        "$$\n",
        "\n",
        "Use left endpoint rule to compute the integral by using the array in Question4-1.\n",
        "\n",
        "---\n",
        "Hint:\n",
        "Our data points are $x_0, x_1, x_2, \\cdots, x_{n-1}, x_n$, but you can see that the last element ($x_n$) is not used in left endpoint rule. Therefore, the last element is exclusive in the calculation.\n",
        "\n",
        "* Slicing to exclude the last element\n",
        "* `np.sum()`\n"
      ],
      "metadata": {
        "id": "32zgwOiBH5Ng"
      }
    },
    {
      "cell_type": "code",
      "source": [
        "# finish codes below! ---------------------------\n",
        "#left sum does not contain the last element Xn(x[-1])\n",
        "left_int = np.sum(f[:-1]*dx)\n",
        "#------------------------------------------------\n",
        "print(\"The integral value by left endpoint rule is: %.5f\" % left_int)"
      ],
      "metadata": {
        "id": "3Y9iC0jjKAVx",
        "outputId": "ef2d2687-9ab7-48c5-d046-e6fa0922c2e8",
        "colab": {
          "base_uri": "https://localhost:8080/"
        }
      },
      "execution_count": 97,
      "outputs": [
        {
          "output_type": "stream",
          "name": "stdout",
          "text": [
            "The integral value by left endpoint rule is: 3.14159\n"
          ]
        }
      ]
    },
    {
      "cell_type": "markdown",
      "source": [
        "#### (10%) 3. Right endpoint rule (右端法)\n",
        "\n",
        "The formulas of left endpoint rule are shown below\n",
        "\n",
        "$$\n",
        "\\begin{equation}\n",
        "R_{n}=\\sum^{n}_{i=1}f(x_{\\mathbf{i}})\\Delta{x}\n",
        "\\end{equation}\n",
        "$$\n",
        "\n",
        "Use right endpoint rule to compute the integral by using the array in Question4-1.\n",
        "\n",
        "---\n",
        "Hint:\n",
        "Our data points are $x_0, x_1, x_2, \\cdots, x_{n-1}, x_n$, but you can see that the first element ($x_0$) is not used in right endpoint rule. Therefore, the first element is exclusive in the calculation.\n",
        "\n",
        "* Slicing to exclude the first element\n",
        "* `np.sum()`\n"
      ],
      "metadata": {
        "id": "namjga5sKkMF"
      }
    },
    {
      "cell_type": "code",
      "source": [
        "# finish codes below! ---------------------------\n",
        "#right sum does not contain the first element X[0]\n",
        "right_int = np.sum(f[1:]*dx)\n",
        "#------------------------------------------------\n",
        "print(\"The integral value by right endpoint rule is: %.5f\" % right_int)"
      ],
      "metadata": {
        "id": "jyngwOELKAzY",
        "outputId": "8ad439de-9ec4-47cf-eef4-e208ac4ff560",
        "colab": {
          "base_uri": "https://localhost:8080/"
        }
      },
      "execution_count": 98,
      "outputs": [
        {
          "output_type": "stream",
          "name": "stdout",
          "text": [
            "The integral value by right endpoint rule is: 3.14159\n"
          ]
        }
      ]
    },
    {
      "cell_type": "markdown",
      "metadata": {
        "id": "XHt6DSCFga00"
      },
      "source": [
        "### (5%) Bonus: Recursive function (遞迴函數)\n",
        "A recursive function is a function that calls itself during its execution. The process may repeat several times, outputting the result and the end of each iteration. The Towers of Hanoi is a classical example for python beginner.\n",
        "\n",
        "\n",
        "<center>\n",
        "<img height=\"auto\" width=\"500px\" src=\"data:image/png;base64,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\">\n",
        "</center>\n",
        "\n",
        "Problem: move $n$ disks from A to C\n",
        "\n",
        "There are two rules should be followed:\n",
        "\n",
        "1. Only one disk can be moved at a time  \n",
        "2. No larger disk can be placed on the top of smaller disk  \n",
        "\n",
        "\n",
        "$$\n",
        "M_{n} = \n",
        "\\begin{cases}\n",
        "1, \\; \\textrm{n = 1} \\\\\n",
        "2M_{n-1} + 1, \\; \\textrm{n>1} \\\\\n",
        "\\end{cases}\n",
        "$$\n",
        "\n",
        "\n",
        "Please use the above formula to compute $M_{30}$\n",
        "\n",
        "(Note: Only the code and anwser are both correct would get 10%)"
      ]
    },
    {
      "cell_type": "code",
      "metadata": {
        "id": "4aOi3WuTgIdY",
        "outputId": "552b4625-3762-44f7-fd70-a8ae71a5bb0b",
        "colab": {
          "base_uri": "https://localhost:8080/"
        }
      },
      "source": [
        "# Advanced method - recursive\n",
        "def Hanoi(x):\n",
        "  #there will be no moves if there aren't any disk\n",
        "  if x<1:\n",
        "    exit\n",
        "  #when there is only 1 disk, move=1\n",
        "  elif x==1:\n",
        "    return 1\n",
        "    '''when there are x disks and x is greater than 1, \n",
        "    the moves of x disks is the double of the moves of x-1 disks plus 1\n",
        "    since adding 1 more disk is basically moving the previous disks to B, \n",
        "    the additional disk to C, and all disks on B to C'''\n",
        "  else:\n",
        "    return 2*Hanoi(x-1)+1\n",
        "    # -----------------------------------------------\n",
        "print(f'The M(30) is:', Hanoi(30))"
      ],
      "execution_count": 99,
      "outputs": [
        {
          "output_type": "stream",
          "name": "stdout",
          "text": [
            "The M(30) is: 1073741823\n"
          ]
        }
      ]
    },
    {
      "cell_type": "markdown",
      "source": [
        "#### (5%) Bonus: Midpoint rule (中點法)\n",
        "\n",
        "$$\n",
        "\\begin{align}\n",
        "M_{n}&=\\sum^{n}_{i=1}f(\\bar{x}_{\\mathbf{i}})\\Delta{x}, \\;\n",
        "\\text{where} \\; \\bar{x}_{i} = \\dfrac{x_{i-1}+x_{i}}{2}\n",
        "\\end{align}\n",
        "$$\n",
        "\n",
        "Please use the midpoint rule to calculate the approximate integration of $f(x)$  in Question 4-1, where $x\\in[0,2\\pi]$\n",
        "\n",
        "(Hint: slicing `arr[start:end:step]`)"
      ],
      "metadata": {
        "id": "ePLQXUdopZcg"
      }
    },
    {
      "cell_type": "code",
      "source": [
        "# finish codes below! ---------------------------\n",
        "#x_right=x1~xn\n",
        "#x_left=x0~xn-1\n",
        "x_right = x[1:]\n",
        "x_left = x[:-1]\n",
        "# Find the midpoint for x_right and x_left\n",
        "#x_mid=(x_right+x_left)/2\n",
        "x_mid = (x_right + x_left) * 0.5\n",
        "x=x_mid\n",
        "int_mid =np.sum(f*dx)\n",
        "# -----------------------------------------------\n",
        "print(\"The integral value by midpoint rule is: %.5f\" % int_mid)"
      ],
      "metadata": {
        "id": "nxbUVOMmpxcR",
        "outputId": "a7986c4c-a9d5-4462-b362-e22eeb92cecd",
        "colab": {
          "base_uri": "https://localhost:8080/"
        }
      },
      "execution_count": 100,
      "outputs": [
        {
          "output_type": "stream",
          "name": "stdout",
          "text": [
            "The integral value by midpoint rule is: 3.14159\n"
          ]
        }
      ]
    },
    {
      "cell_type": "markdown",
      "source": [
        "### (5%) Bonus: Numerical integration - Simpson's rule (辛普森法)\n",
        "\n",
        "\n",
        "<center><img height=\"auto\" width=\"300px\" src=\"https://media4.giphy.com/media/JwwYTeuOHhEB2/200.webp?cid=ecf05e47dssg4teo90mhtewiepxnjeuoim5z3so8d8cbb2vi&rid=200.webp&ct=g\"></center>\n",
        "\n",
        "<br/>\n",
        "The formulas of Simpson's rule is shown below\n",
        "\n",
        "$$\n",
        "\\begin{align}\n",
        "S_{n}=\\dfrac{\\Delta{x}}{3}\\left[f(x_{0}) + 4f(x_{1}) + 2f(x_{2}) + 4f(x_{3}) + 2f(x_{4}) + \\cdots + 2f(x_{n-2}) + 4f(x_{n-1}) + f(x_{n})\\right]\n",
        "\\end{align}\n",
        "$$\n",
        "\n",
        "Please use the Simpson's rule to calculate the approximate integration of $f(x)$  in Question 4-1, where $x\\in[0,2\\pi]$\n",
        "\n",
        "---\n",
        "(Hint: slicing `arr[start:end:step]`)\n",
        "\n",
        "1. The terms with coefficient 4 are $f(x_{1}), f(x_{3}), f(x_{5}), \\cdots, f(x_{n-3}), f(x_{n-1})$\n",
        "\n",
        "2. The terms with coefficient 2 are $f(x_{2}), f(x_{4}), f(x_{6}), \\cdots, f(x_{n-4}), f(x_{n-2})$\n",
        "\n",
        "3. The terms with coefficient 1 are $f(x_0)$ and $f(x_n)$"
      ],
      "metadata": {
        "id": "PGPjA2NsMFqv"
      }
    },
    {
      "cell_type": "code",
      "source": [
        "import numpy as np\n",
        "\n",
        "# finish codes below! ---------------------------\n",
        "#a1 are xi where i is odd number\n",
        "a1 = 4*np.sum(f[1:num-1:2]) # array for coefficient 4\n",
        "#a2 are xi where i is even number\n",
        "a2 = 2*np.sum(f[:num-2:2]) # array for coefficient 2\n",
        "#Sn=(f0+a1+a2+fn)*dx/3\n",
        "sim_int =(f[0]+a1+a2+f[num-1])*dx/3\n",
        "\n",
        "#------------------------------------------------\n",
        "print(\"The integral value by Simpson's rule is: %.5f\" % sim_int)"
      ],
      "metadata": {
        "id": "WAtSYUJJMGF5",
        "outputId": "24ad4ef8-ef00-489c-d425-750ee0e1f1e1",
        "colab": {
          "base_uri": "https://localhost:8080/"
        }
      },
      "execution_count": 101,
      "outputs": [
        {
          "output_type": "stream",
          "name": "stdout",
          "text": [
            "The integral value by Simpson's rule is: 3.14159\n"
          ]
        }
      ]
    }
  ]
}