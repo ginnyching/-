{
  "nbformat": 4,
  "nbformat_minor": 0,
  "metadata": {
    "colab": {
      "name": "Untitled1.ipynb",
      "provenance": []
    },
    "kernelspec": {
      "name": "python3",
      "display_name": "Python 3"
    },
    "language_info": {
      "name": "python"
    }
  },
  "cells": [
    {
      "cell_type": "code",
      "execution_count": 5,
      "metadata": {
        "id": "m8HauZ_YuUGB"
      },
      "outputs": [],
      "source": [
        "import csv \n",
        "from func import *\n"
      ]
    },
    {
      "cell_type": "markdown",
      "source": [
        "1.寫一個迴圈，判斷 MLB 2019 賽季，主(客)場勝率。"
      ],
      "metadata": {
        "id": "KCG4dAfRufqg"
      }
    },
    {
      "cell_type": "code",
      "source": [
        "with open('2019_games.csv','r')as f:\n",
        "  csv_dict=csv.DictReader(f)\n",
        "  win_percenatge(csv_dict)"
      ],
      "metadata": {
        "colab": {
          "base_uri": "https://localhost:8080/"
        },
        "id": "Oev0240Sun3I",
        "outputId": "038af4a6-f978-4487-c122-a0f48ee4ef6b"
      },
      "execution_count": 6,
      "outputs": [
        {
          "output_type": "stream",
          "name": "stdout",
          "text": [
            "主場勝率: 0.5286544850498339\n",
            "客場勝率: 0.47134551495016613\n",
            "主場勝率較高\n"
          ]
        }
      ]
    },
    {
      "cell_type": "markdown",
      "source": [
        "2.哪一個主場勝率最高。"
      ],
      "metadata": {
        "id": "6VOZnvUSvA7_"
      }
    },
    {
      "cell_type": "code",
      "source": [
        "#哪一個隊伍在當主隊時勝率較高\n",
        "home_team={}\n",
        "#home_team={team name:[win,lose]}\n",
        "with open('2019_games.csv','r')as f:\n",
        "  csv_dict=csv.DictReader(f)\n",
        "  #count the total number of win and lose games of each home_team\n",
        "  for col in csv_dict:\n",
        "    if col['home_team'] not in home_team:\n",
        "      home_team[col['home_team']]=[0,0]\n",
        "    if col['home_final_score']>col['away_final_score']:\n",
        "      home_team[col['home_team']][0]+=1\n",
        "    else:\n",
        "      home_team[col['home_team']][1]+=1\n",
        "\n",
        "  team=highest_win_rate(home_team)\n",
        "  print(team,'has the highest winning percentage when playing as home team')\n",
        "  "
      ],
      "metadata": {
        "colab": {
          "base_uri": "https://localhost:8080/"
        },
        "id": "MUpQLKJYvEIP",
        "outputId": "f157019e-7711-4077-f9ac-7c902603b2ac"
      },
      "execution_count": 7,
      "outputs": [
        {
          "output_type": "stream",
          "name": "stdout",
          "text": [
            "mil has the highest winning percentage when playing as home team\n"
          ]
        }
      ]
    },
    {
      "cell_type": "code",
      "source": [
        "#因為有些隊伍好像有不只一個主場(same home team but different venue)\n",
        "#所以考慮在特定場地比賽的兩隊中，擔任主隊的隊伍勝率是否是所有場地中勝率最高者\n",
        "#i.e.在此場地的主隊勝率>其他場地的主隊勝率\n",
        "home_venue={}\n",
        "#home_venue={venue name:[win,lose]}\n",
        "with open('2019_games.csv','r')as f:\n",
        "  csv_dict=csv.DictReader(f)\n",
        "  for col in csv_dict:\n",
        "    if col['venue_name'] not in home_venue:\n",
        "      home_venue[col['venue_name']]=[0,0]\n",
        "    if col['home_final_score']>col['away_final_score']:\n",
        "      home_venue[col['venue_name']][0]+=1\n",
        "    else:\n",
        "      home_venue[col['venue_name']][1]+=1\n",
        "  venue=highest_win_rate(home_venue)\n",
        "  print('home team playing at',venue,'has the highest winning percentage')"
      ],
      "metadata": {
        "colab": {
          "base_uri": "https://localhost:8080/"
        },
        "id": "qAK1huFMvS4w",
        "outputId": "b5d75b0a-e168-4bd4-cec6-02c2a3599c4d"
      },
      "execution_count": 9,
      "outputs": [
        {
          "output_type": "stream",
          "name": "stdout",
          "text": [
            "home team playing at TD Ameritrade Park has the highest winning percentage\n"
          ]
        }
      ]
    },
    {
      "cell_type": "markdown",
      "source": [
        "3.哪一隊客場勝率最高。"
      ],
      "metadata": {
        "id": "60CjJr6FvrVH"
      }
    },
    {
      "cell_type": "code",
      "source": [
        "#哪一個隊伍在當客隊時勝率較高\n",
        "away_team={}\n",
        "#away_team={team name:[win,lose]}\n",
        "with open('2019_games.csv','r')as f:\n",
        "  csv_dict=csv.DictReader(f)\n",
        "  for col in csv_dict:\n",
        "    if col['away_team'] not in away_team:\n",
        "      away_team[col['away_team']]=[0,0]\n",
        "    if col['away_final_score']>col['home_final_score']:\n",
        "      away_team[col['away_team']][0]+=1\n",
        "    else:\n",
        "      away_team[col['away_team']][1]+=1\n",
        "  away=highest_win_rate(away_team)  \n",
        "  print(away,'has the highest winning percentage when playing as away team')"
      ],
      "metadata": {
        "colab": {
          "base_uri": "https://localhost:8080/"
        },
        "id": "gOQkVneXvq1n",
        "outputId": "ca8fabce-2367-4381-94b2-8bf14cfad5ca"
      },
      "execution_count": 10,
      "outputs": [
        {
          "output_type": "stream",
          "name": "stdout",
          "text": [
            "min has the highest winning percentage when playing as away team\n"
          ]
        }
      ]
    },
    {
      "cell_type": "markdown",
      "source": [
        "4.More?"
      ],
      "metadata": {
        "id": "OaMgCcL8v8kG"
      }
    },
    {
      "cell_type": "code",
      "source": [
        "with open('2019_games.csv','r')as f:\n",
        "  csv_dict=csv.DictReader(f)\n",
        "  team=[]\n",
        "  venue=[]\n",
        "  total=0\n",
        "  for col in csv_dict:\n",
        "    total+=1\n",
        "    if col['home_team'] not in team:\n",
        "      team.append(col['home_team'])\n",
        "    if col['away_team'] not in team:\n",
        "      team.append(col['away_team'])\n",
        "    if col['venue_name'] not in venue:\n",
        "      venue.append(col['venue_name'])\n",
        "  \n",
        "  \n",
        "  print(total,'games are played in 2019 with total of',len(team),'teams and', len(venue),'venues')"
      ],
      "metadata": {
        "colab": {
          "base_uri": "https://localhost:8080/"
        },
        "id": "tHpFgQ2Zv9Je",
        "outputId": "5c47d505-c0fc-4d58-d48e-ee8827dcfa13"
      },
      "execution_count": 12,
      "outputs": [
        {
          "output_type": "stream",
          "name": "stdout",
          "text": [
            "2408 games are played in 2019 with total of 30 teams and 34 venues\n"
          ]
        }
      ]
    },
    {
      "cell_type": "code",
      "source": [
        "home_team={}\n",
        "print('some teams that played at more than one venue as home team:')\n",
        "with open('2019_games.csv','r')as f:\n",
        "  csv_dict=csv.DictReader(f)\n",
        "  for col in csv_dict:\n",
        "    if col['home_team'] not in home_team:\n",
        "      home_team[col['home_team']]=col['venue_name']\n",
        "    else:\n",
        "      #home_team[col['home_team']].append(col['venue_name'])\n",
        "      if col['venue_name']!=home_team[col['home_team']]:\n",
        "        print(col['home_team'],'played at ',col['venue_name'],'as home team at game ',col['g_id'], ', where it usually plays at ',home_team[col['home_team']],'as home team')\n",
        "print('\\nteams and thier home team venue')\n",
        "for key, value in home_team.items():\n",
        "    print(key, ' : ', value)"
      ],
      "metadata": {
        "colab": {
          "base_uri": "https://localhost:8080/"
        },
        "id": "afkJOwmxwWjv",
        "outputId": "f5a6336d-f808-49a4-bd58-884f67c97e74"
      },
      "execution_count": 13,
      "outputs": [
        {
          "output_type": "stream",
          "name": "stdout",
          "text": [
            "some teams that played at more than one venue as home team:\n",
            "cin played at  Estadio de Beisbol Monterrey as home team at game  201900214.0 , where it usually plays at  Great American Ball Park as home team\n",
            "cin played at  Estadio de Beisbol Monterrey as home team at game  201900228.0 , where it usually plays at  Great American Ball Park as home team\n",
            "ana played at  Estadio de Beisbol Monterrey as home team at game  201900478.0 , where it usually plays at  Angel Stadium as home team\n",
            "ana played at  Estadio de Beisbol Monterrey as home team at game  201900493.0 , where it usually plays at  Angel Stadium as home team\n",
            "det played at  Oakland Coliseum as home team at game  201900683.0 , where it usually plays at  Comerica Park as home team\n",
            "kca played at  TD Ameritrade Park as home team at game  201901010.0 , where it usually plays at  Kauffman Stadium as home team\n",
            "bos played at  London Stadium as home team at game  201901229.0 , where it usually plays at  Fenway Park as home team\n",
            "bos played at  London Stadium as home team at game  201901244.0 , where it usually plays at  Fenway Park as home team\n",
            "pit played at  BB&T Ballpark as home team at game  201901850.0 , where it usually plays at  PNC Park as home team\n",
            "\n",
            "teams and thier home team venue\n",
            "oak  :  Oakland Coliseum\n",
            "lan  :  Dodger Stadium\n",
            "phi  :  Citizens Bank Park\n",
            "nya  :  Yankee Stadium\n",
            "sea  :  T-Mobile Park\n",
            "kca  :  Kauffman Stadium\n",
            "tex  :  Globe Life Park in Arlington\n",
            "min  :  Target Field\n",
            "mia  :  Marlins Park\n",
            "tor  :  Rogers Centre\n",
            "tba  :  Tropicana Field\n",
            "was  :  Nationals Park\n",
            "cin  :  Great American Ball Park\n",
            "sdn  :  Petco Park\n",
            "mil  :  Miller Park\n",
            "cle  :  Progressive Field\n",
            "atl  :  SunTrust Park\n",
            "pit  :  PNC Park\n",
            "det  :  Comerica Park\n",
            "bal  :  Oriole Park at Camden Yards\n",
            "ana  :  Angel Stadium\n",
            "nyn  :  Citi Field\n",
            "ari  :  Chase Field\n",
            "col  :  Coors Field\n",
            "hou  :  Minute Maid Park\n",
            "sln  :  Busch Stadium\n",
            "cha  :  Guaranteed Rate Field\n",
            "sfn  :  Oracle Park\n",
            "chn  :  Wrigley Field\n",
            "bos  :  Fenway Park\n"
          ]
        }
      ]
    },
    {
      "cell_type": "code",
      "source": [
        "with open('2019_games.csv','r')as f:\n",
        "  csv_dict=csv.DictReader(f)\n",
        "  venue={}\n",
        "  date={}\n",
        "  for col in csv_dict:\n",
        "    if col['venue_name'] not in venue:\n",
        "      venue[col['venue_name']]=1\n",
        "    else:\n",
        "      venue[col['venue_name']]+=1\n",
        "    if col['date'] not in date:\n",
        "      date[col['date']]=1\n",
        "    else:\n",
        "      date[col['date']]+=1\n",
        "  #print(venue)\n",
        "  for key, value in venue.items():\n",
        "    print('there are',value,'games played at',key)\n",
        "  print('\\nthe first game is played at',list(date.keys())[0],'and the last game is played at',list(date.keys())[-1],'\\n')\n",
        "  for key, value in date.items():\n",
        "    print('there are',value,'games played at',key)"
      ],
      "metadata": {
        "colab": {
          "base_uri": "https://localhost:8080/"
        },
        "id": "X1IftGLpwq44",
        "outputId": "8c066507-9b9d-46e1-dd8e-1e466cea469e"
      },
      "execution_count": 14,
      "outputs": [
        {
          "output_type": "stream",
          "name": "stdout",
          "text": [
            "there are 80 games played at Oakland Coliseum\n",
            "there are 81 games played at Dodger Stadium\n",
            "there are 80 games played at Citizens Bank Park\n",
            "there are 81 games played at Yankee Stadium\n",
            "there are 80 games played at T-Mobile Park\n",
            "there are 79 games played at Kauffman Stadium\n",
            "there are 80 games played at Globe Life Park in Arlington\n",
            "there are 81 games played at Target Field\n",
            "there are 81 games played at Marlins Park\n",
            "there are 80 games played at Rogers Centre\n",
            "there are 81 games played at Tropicana Field\n",
            "there are 79 games played at Nationals Park\n",
            "there are 79 games played at Great American Ball Park\n",
            "there are 81 games played at Petco Park\n",
            "there are 80 games played at Miller Park\n",
            "there are 81 games played at Progressive Field\n",
            "there are 81 games played at SunTrust Park\n",
            "there are 79 games played at PNC Park\n",
            "there are 80 games played at Comerica Park\n",
            "there are 81 games played at Oriole Park at Camden Yards\n",
            "there are 76 games played at Angel Stadium\n",
            "there are 80 games played at Citi Field\n",
            "there are 80 games played at Chase Field\n",
            "there are 80 games played at Coors Field\n",
            "there are 81 games played at Minute Maid Park\n",
            "there are 80 games played at Busch Stadium\n",
            "there are 79 games played at Guaranteed Rate Field\n",
            "there are 80 games played at Oracle Park\n",
            "there are 81 games played at Wrigley Field\n",
            "there are 78 games played at Fenway Park\n",
            "there are 4 games played at Estadio de Beisbol Monterrey\n",
            "there are 1 games played at TD Ameritrade Park\n",
            "there are 2 games played at London Stadium\n",
            "there are 1 games played at BB&T Ballpark\n",
            "\n",
            "the first game is played at 2019-03-28 and the last game is played at 2019-09-28 \n",
            "\n",
            "there are 15 games played at 2019-03-28\n",
            "there are 8 games played at 2019-03-29\n",
            "there are 14 games played at 2019-03-30\n",
            "there are 15 games played at 2019-03-31\n",
            "there are 13 games played at 2019-04-01\n",
            "there are 12 games played at 2019-04-02\n",
            "there are 14 games played at 2019-04-03\n",
            "there are 8 games played at 2019-04-04\n",
            "there are 12 games played at 2019-04-05\n",
            "there are 15 games played at 2019-04-06\n",
            "there are 15 games played at 2019-04-07\n",
            "there are 10 games played at 2019-04-08\n",
            "there are 14 games played at 2019-04-09\n",
            "there are 13 games played at 2019-04-10\n",
            "there are 10 games played at 2019-04-11\n",
            "there are 13 games played at 2019-04-12\n",
            "there are 14 games played at 2019-04-13\n",
            "there are 14 games played at 2019-04-14\n",
            "there are 10 games played at 2019-04-15\n",
            "there are 15 games played at 2019-04-16\n",
            "there are 14 games played at 2019-04-17\n",
            "there are 10 games played at 2019-04-18\n",
            "there are 13 games played at 2019-04-19\n",
            "there are 16 games played at 2019-04-20\n",
            "there are 15 games played at 2019-04-21\n",
            "there are 9 games played at 2019-04-22\n",
            "there are 16 games played at 2019-04-23\n",
            "there are 15 games played at 2019-04-24\n",
            "there are 8 games played at 2019-04-25\n",
            "there are 14 games played at 2019-04-26\n",
            "there are 14 games played at 2019-04-27\n",
            "there are 15 games played at 2019-04-28\n",
            "there are 9 games played at 2019-04-29\n",
            "there are 13 games played at 2019-04-30\n",
            "there are 17 games played at 2019-05-01\n",
            "there are 8 games played at 2019-05-02\n",
            "there are 14 games played at 2019-05-03\n",
            "there are 15 games played at 2019-05-04\n",
            "there are 14 games played at 2019-05-05\n",
            "there are 12 games played at 2019-05-06\n",
            "there are 15 games played at 2019-05-07\n",
            "there are 14 games played at 2019-05-08\n",
            "there are 10 games played at 2019-05-09\n",
            "there are 15 games played at 2019-05-10\n",
            "there are 16 games played at 2019-05-11\n",
            "there are 14 games played at 2019-05-12\n",
            "there are 6 games played at 2019-05-13\n",
            "there are 14 games played at 2019-05-14\n",
            "there are 14 games played at 2019-05-15\n",
            "there are 10 games played at 2019-05-16\n",
            "there are 15 games played at 2019-05-17\n",
            "there are 15 games played at 2019-05-18\n",
            "there are 15 games played at 2019-05-19\n",
            "there are 10 games played at 2019-05-20\n",
            "there are 14 games played at 2019-05-21\n",
            "there are 15 games played at 2019-05-22\n",
            "there are 10 games played at 2019-05-23\n",
            "there are 14 games played at 2019-05-24\n",
            "there are 16 games played at 2019-05-25\n",
            "there are 14 games played at 2019-05-26\n",
            "there are 14 games played at 2019-05-27\n",
            "there are 15 games played at 2019-05-28\n",
            "there are 14 games played at 2019-05-29\n",
            "there are 9 games played at 2019-05-30\n",
            "there are 15 games played at 2019-05-31\n",
            "there are 15 games played at 2019-06-01\n",
            "there are 15 games played at 2019-06-02\n",
            "there are 4 games played at 2019-06-03\n",
            "there are 15 games played at 2019-06-04\n",
            "there are 14 games played at 2019-06-05\n",
            "there are 12 games played at 2019-06-06\n",
            "there are 15 games played at 2019-06-07\n",
            "there are 17 games played at 2019-06-08\n",
            "there are 15 games played at 2019-06-09\n",
            "there are 8 games played at 2019-06-10\n",
            "there are 16 games played at 2019-06-11\n",
            "there are 12 games played at 2019-06-12\n",
            "there are 11 games played at 2019-06-13\n",
            "there are 15 games played at 2019-06-14\n",
            "there are 15 games played at 2019-06-15\n",
            "there are 15 games played at 2019-06-16\n",
            "there are 11 games played at 2019-06-17\n",
            "there are 14 games played at 2019-06-18\n",
            "there are 16 games played at 2019-06-19\n",
            "there are 12 games played at 2019-06-20\n",
            "there are 15 games played at 2019-06-21\n",
            "there are 15 games played at 2019-06-22\n",
            "there are 15 games played at 2019-06-23\n",
            "there are 7 games played at 2019-06-24\n",
            "there are 15 games played at 2019-06-25\n",
            "there are 15 games played at 2019-06-26\n",
            "there are 10 games played at 2019-06-27\n",
            "there are 14 games played at 2019-06-28\n",
            "there are 15 games played at 2019-06-29\n",
            "there are 15 games played at 2019-06-30\n",
            "there are 5 games played at 2019-07-01\n",
            "there are 14 games played at 2019-07-02\n",
            "there are 16 games played at 2019-07-03\n",
            "there are 12 games played at 2019-07-04\n",
            "there are 13 games played at 2019-07-05\n",
            "there are 15 games played at 2019-07-06\n",
            "there are 15 games played at 2019-07-07\n",
            "there are 1 games played at 2019-07-11\n",
            "there are 15 games played at 2019-07-12\n",
            "there are 16 games played at 2019-07-13\n",
            "there are 15 games played at 2019-07-14\n",
            "there are 11 games played at 2019-07-15\n",
            "there are 15 games played at 2019-07-16\n",
            "there are 14 games played at 2019-07-17\n",
            "there are 13 games played at 2019-07-18\n",
            "there are 15 games played at 2019-07-19\n",
            "there are 15 games played at 2019-07-20\n",
            "there are 15 games played at 2019-07-21\n",
            "there are 10 games played at 2019-07-22\n",
            "there are 15 games played at 2019-07-23\n",
            "there are 16 games played at 2019-07-24\n",
            "there are 9 games played at 2019-07-25\n",
            "there are 15 games played at 2019-07-26\n",
            "there are 15 games played at 2019-07-27\n",
            "there are 15 games played at 2019-07-28\n",
            "there are 7 games played at 2019-07-29\n",
            "there are 15 games played at 2019-07-30\n",
            "there are 14 games played at 2019-07-31\n",
            "there are 10 games played at 2019-08-01\n",
            "there are 13 games played at 2019-08-02\n",
            "there are 16 games played at 2019-08-03\n",
            "there are 15 games played at 2019-08-04\n",
            "there are 14 games played at 2019-08-05\n",
            "there are 15 games played at 2019-08-06\n",
            "there are 15 games played at 2019-08-07\n",
            "there are 8 games played at 2019-08-08\n",
            "there are 15 games played at 2019-08-09\n",
            "there are 15 games played at 2019-08-10\n",
            "there are 15 games played at 2019-08-11\n",
            "there are 8 games played at 2019-08-12\n",
            "there are 16 games played at 2019-08-13\n",
            "there are 15 games played at 2019-08-14\n",
            "there are 10 games played at 2019-08-15\n",
            "there are 15 games played at 2019-08-16\n",
            "there are 15 games played at 2019-08-17\n",
            "there are 15 games played at 2019-08-18\n",
            "there are 9 games played at 2019-08-19\n",
            "there are 16 games played at 2019-08-20\n",
            "there are 15 games played at 2019-08-21\n",
            "there are 10 games played at 2019-08-22\n",
            "there are 14 games played at 2019-08-23\n",
            "there are 15 games played at 2019-08-24\n",
            "there are 15 games played at 2019-08-25\n",
            "there are 8 games played at 2019-08-26\n",
            "there are 15 games played at 2019-08-27\n",
            "there are 13 games played at 2019-08-28\n",
            "there are 10 games played at 2019-08-29\n",
            "there are 14 games played at 2019-08-30\n",
            "there are 16 games played at 2019-08-31\n",
            "there are 16 games played at 2019-09-01\n",
            "there are 12 games played at 2019-09-02\n",
            "there are 16 games played at 2019-09-03\n",
            "there are 11 games played at 2019-09-04\n",
            "there are 12 games played at 2019-09-05\n",
            "there are 15 games played at 2019-09-06\n",
            "there are 15 games played at 2019-09-07\n",
            "there are 15 games played at 2019-09-08\n",
            "there are 8 games played at 2019-09-09\n",
            "there are 15 games played at 2019-09-10\n",
            "there are 13 games played at 2019-09-11\n",
            "there are 15 games played at 2019-09-12\n",
            "there are 13 games played at 2019-09-13\n",
            "there are 16 games played at 2019-09-14\n",
            "there are 15 games played at 2019-09-15\n",
            "there are 8 games played at 2019-09-16\n",
            "there are 15 games played at 2019-09-17\n",
            "there are 15 games played at 2019-09-18\n",
            "there are 9 games played at 2019-09-19\n",
            "there are 15 games played at 2019-09-20\n",
            "there are 15 games played at 2019-09-21\n",
            "there are 15 games played at 2019-09-22\n",
            "there are 5 games played at 2019-09-23\n",
            "there are 16 games played at 2019-09-24\n",
            "there are 15 games played at 2019-09-25\n",
            "there are 11 games played at 2019-09-26\n",
            "there are 14 games played at 2019-09-27\n",
            "there are 16 games played at 2019-09-28\n"
          ]
        }
      ]
    }
  ]
}